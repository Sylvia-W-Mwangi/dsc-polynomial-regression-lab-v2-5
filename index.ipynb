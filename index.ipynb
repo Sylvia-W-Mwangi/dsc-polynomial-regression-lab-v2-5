{
 "cells": [
  {
   "cell_type": "markdown",
   "metadata": {},
   "source": [
    "# Polynomial Regression - Lab"
   ]
  },
  {
   "cell_type": "markdown",
   "metadata": {},
   "source": [
    "## Introduction"
   ]
  },
  {
   "cell_type": "markdown",
   "metadata": {},
   "source": [
    "In this lab, you'll practice your knowledge on adding polynomial terms to your regression model! "
   ]
  },
  {
   "cell_type": "markdown",
   "metadata": {},
   "source": [
    "## Objectives"
   ]
  },
  {
   "cell_type": "markdown",
   "metadata": {},
   "source": [
    "You will be able to:\n",
    "\n",
    "* Determine if polynomial regression would be useful for a specific model or set of data\n",
    "* Create polynomial terms out of independent variables in linear regression"
   ]
  },
  {
   "cell_type": "markdown",
   "metadata": {},
   "source": [
    "## Dataset"
   ]
  },
  {
   "cell_type": "markdown",
   "metadata": {},
   "source": [
    "For this lab you'll be using some generated data:"
   ]
  },
  {
   "cell_type": "code",
   "execution_count": 1,
   "metadata": {},
   "outputs": [
    {
     "data": {
      "text/html": [
       "<div>\n",
       "<style scoped>\n",
       "    .dataframe tbody tr th:only-of-type {\n",
       "        vertical-align: middle;\n",
       "    }\n",
       "\n",
       "    .dataframe tbody tr th {\n",
       "        vertical-align: top;\n",
       "    }\n",
       "\n",
       "    .dataframe thead th {\n",
       "        text-align: right;\n",
       "    }\n",
       "</style>\n",
       "<table border=\"1\" class=\"dataframe\">\n",
       "  <thead>\n",
       "    <tr style=\"text-align: right;\">\n",
       "      <th></th>\n",
       "      <th>x</th>\n",
       "      <th>y</th>\n",
       "    </tr>\n",
       "  </thead>\n",
       "  <tbody>\n",
       "    <tr>\n",
       "      <th>0</th>\n",
       "      <td>0.000000</td>\n",
       "      <td>0.942870</td>\n",
       "    </tr>\n",
       "    <tr>\n",
       "      <th>1</th>\n",
       "      <td>0.121212</td>\n",
       "      <td>-2.261629</td>\n",
       "    </tr>\n",
       "    <tr>\n",
       "      <th>2</th>\n",
       "      <td>0.242424</td>\n",
       "      <td>3.100749</td>\n",
       "    </tr>\n",
       "    <tr>\n",
       "      <th>3</th>\n",
       "      <td>0.363636</td>\n",
       "      <td>-0.285446</td>\n",
       "    </tr>\n",
       "    <tr>\n",
       "      <th>4</th>\n",
       "      <td>0.484848</td>\n",
       "      <td>-1.012210</td>\n",
       "    </tr>\n",
       "  </tbody>\n",
       "</table>\n",
       "</div>"
      ],
      "text/plain": [
       "          x         y\n",
       "0  0.000000  0.942870\n",
       "1  0.121212 -2.261629\n",
       "2  0.242424  3.100749\n",
       "3  0.363636 -0.285446\n",
       "4  0.484848 -1.012210"
      ]
     },
     "execution_count": 1,
     "metadata": {},
     "output_type": "execute_result"
    }
   ],
   "source": [
    "# Run this cell without changes\n",
    "import numpy as np\n",
    "import pandas as pd\n",
    "import matplotlib.pyplot as plt\n",
    "%matplotlib inline\n",
    "\n",
    "df = pd.read_csv('sample_data.csv')\n",
    "df.head()"
   ]
  },
  {
   "cell_type": "markdown",
   "metadata": {},
   "source": [
    "Let's check out a scatter plot of `x` vs. `y`: "
   ]
  },
  {
   "cell_type": "code",
   "execution_count": 2,
   "metadata": {},
   "outputs": [
    {
     "data": {
      "image/png": "[encoded data removed]",
      "text/plain": [
       "<Figure size 640x480 with 1 Axes>"
      ]
     },
     "metadata": {},
     "output_type": "display_data"
    }
   ],
   "source": [
    "# Run this cell without changes\n",
    "df.plot.scatter(x=\"x\", y=\"y\");\n",
    "\n",
    "plt.show()"
   ]
  },
  {
   "cell_type": "markdown",
   "metadata": {},
   "source": [
    "You will notice that the data is clearly of non-linear shape. Begin to think about what degree polynomial you believe will fit it best.\n",
    "\n",
    "You will fit several different models with different polynomial degrees, then plot them in the same plot at the end."
   ]
  },
  {
   "cell_type": "code",
   "execution_count": 3,
   "metadata": {},
   "outputs": [],
   "source": [
    "# Your code here - import StatsModels and separate the data into X and y\n",
    "import statsmodels.api as sm\n",
    "\n",
    "X = df.drop(['y'], axis=1)\n",
    "y = df['y']\n"
   ]
  },
  {
   "cell_type": "markdown",
   "metadata": {},
   "source": [
    "## Build and Evaluate a Quadratic Model\n",
    "\n",
    "This model should include a constant, `x`, and `x` squared. You can use `pandas` or `PolynomialFeatures` to create the squared term."
   ]
  },
  {
   "cell_type": "code",
   "execution_count": 4,
   "metadata": {},
   "outputs": [
    {
     "data": {
      "text/html": [
       "<div>\n",
       "<style scoped>\n",
       "    .dataframe tbody tr th:only-of-type {\n",
       "        vertical-align: middle;\n",
       "    }\n",
       "\n",
       "    .dataframe tbody tr th {\n",
       "        vertical-align: top;\n",
       "    }\n",
       "\n",
       "    .dataframe thead th {\n",
       "        text-align: right;\n",
       "    }\n",
       "</style>\n",
       "<table border=\"1\" class=\"dataframe\">\n",
       "  <thead>\n",
       "    <tr style=\"text-align: right;\">\n",
       "      <th></th>\n",
       "      <th>x</th>\n",
       "      <th>x_sq</th>\n",
       "    </tr>\n",
       "  </thead>\n",
       "  <tbody>\n",
       "    <tr>\n",
       "      <th>0</th>\n",
       "      <td>0.000000</td>\n",
       "      <td>0.000000</td>\n",
       "    </tr>\n",
       "    <tr>\n",
       "      <th>1</th>\n",
       "      <td>0.121212</td>\n",
       "      <td>0.014692</td>\n",
       "    </tr>\n",
       "    <tr>\n",
       "      <th>2</th>\n",
       "      <td>0.242424</td>\n",
       "      <td>0.058770</td>\n",
       "    </tr>\n",
       "    <tr>\n",
       "      <th>3</th>\n",
       "      <td>0.363636</td>\n",
       "      <td>0.132231</td>\n",
       "    </tr>\n",
       "    <tr>\n",
       "      <th>4</th>\n",
       "      <td>0.484848</td>\n",
       "      <td>0.235078</td>\n",
       "    </tr>\n",
       "    <tr>\n",
       "      <th>...</th>\n",
       "      <td>...</td>\n",
       "      <td>...</td>\n",
       "    </tr>\n",
       "    <tr>\n",
       "      <th>95</th>\n",
       "      <td>11.515152</td>\n",
       "      <td>132.598714</td>\n",
       "    </tr>\n",
       "    <tr>\n",
       "      <th>96</th>\n",
       "      <td>11.636364</td>\n",
       "      <td>135.404959</td>\n",
       "    </tr>\n",
       "    <tr>\n",
       "      <th>97</th>\n",
       "      <td>11.757576</td>\n",
       "      <td>138.240588</td>\n",
       "    </tr>\n",
       "    <tr>\n",
       "      <th>98</th>\n",
       "      <td>11.878788</td>\n",
       "      <td>141.105601</td>\n",
       "    </tr>\n",
       "    <tr>\n",
       "      <th>99</th>\n",
       "      <td>12.000000</td>\n",
       "      <td>144.000000</td>\n",
       "    </tr>\n",
       "  </tbody>\n",
       "</table>\n",
       "<p>100 rows × 2 columns</p>\n",
       "</div>"
      ],
      "text/plain": [
       "            x        x_sq\n",
       "0    0.000000    0.000000\n",
       "1    0.121212    0.014692\n",
       "2    0.242424    0.058770\n",
       "3    0.363636    0.132231\n",
       "4    0.484848    0.235078\n",
       "..        ...         ...\n",
       "95  11.515152  132.598714\n",
       "96  11.636364  135.404959\n",
       "97  11.757576  138.240588\n",
       "98  11.878788  141.105601\n",
       "99  12.000000  144.000000\n",
       "\n",
       "[100 rows x 2 columns]"
      ]
     },
     "execution_count": 4,
     "metadata": {},
     "output_type": "execute_result"
    }
   ],
   "source": [
    "# Your code here - prepare quadratic data and fit a model\n",
    "X_quad = X.copy()\n",
    "X_quad['x_sq'] = X_quad['x']**2\n",
    "X_quad\n"
   ]
  },
  {
   "cell_type": "code",
   "execution_count": 5,
   "metadata": {},
   "outputs": [
    {
     "name": "stdout",
     "output_type": "stream",
     "text": [
      "R_squared: -0.015664188856822303\n",
      "Coef_pvalues: const    0.938055\n",
      "x        0.893974\n",
      "x_sq     0.967420\n",
      "dtype: float64\n"
     ]
    }
   ],
   "source": [
    "# Your code here - evaluate (adjusted) R-Squared and coefficient p-values\n",
    "\n",
    "quad_model = sm.OLS(y, sm.add_constant(X_quad))\n",
    "quad_results = quad_model.fit()\n",
    "\n",
    "print(f'R_squared: {quad_results.rsquared_adj}')\n",
    "print(f'Coef_pvalues: {quad_results.pvalues}')"
   ]
  },
  {
   "cell_type": "markdown",
   "metadata": {},
   "source": [
    "* The adjusted r_squared does not explain any of the variance as it is negative\n",
    "* None of the p_values are statistically significant"
   ]
  },
  {
   "cell_type": "code",
   "execution_count": 6,
   "metadata": {},
   "outputs": [],
   "source": [
    "# Your written answer here - summarize findings\n"
   ]
  },
  {
   "cell_type": "markdown",
   "metadata": {},
   "source": [
    "<details>\n",
    "    <summary style=\"cursor: pointer\"><b>Answer (click to reveal)</b></summary>\n",
    "    \n",
    "This is not a good model. Because we have multiple terms and are explaining so little of the variance in `y`, we actually have a negative adjusted R-Squared.\n",
    "\n",
    "None of the coefficients are statistically significant at an alpha of 0.05\n",
    "    \n",
    "</details>"
   ]
  },
  {
   "cell_type": "markdown",
   "metadata": {},
   "source": [
    "## Build and Evaluate a 4th Degree Polynomial Model\n",
    "\n",
    "In other words, the model should include $x^0$ (intercept), $x^1$, $x^2$, $x^3$, and $x^4$ terms.\n",
    "\n",
    "At this point we recommend importing and using `PolynomialFeatures` if you haven't already!"
   ]
  },
  {
   "cell_type": "code",
   "execution_count": 7,
   "metadata": {},
   "outputs": [
    {
     "data": {
      "text/html": [
       "<div>\n",
       "<style scoped>\n",
       "    .dataframe tbody tr th:only-of-type {\n",
       "        vertical-align: middle;\n",
       "    }\n",
       "\n",
       "    .dataframe tbody tr th {\n",
       "        vertical-align: top;\n",
       "    }\n",
       "\n",
       "    .dataframe thead th {\n",
       "        text-align: right;\n",
       "    }\n",
       "</style>\n",
       "<table border=\"1\" class=\"dataframe\">\n",
       "  <thead>\n",
       "    <tr style=\"text-align: right;\">\n",
       "      <th></th>\n",
       "      <th>1</th>\n",
       "      <th>x</th>\n",
       "      <th>x^2</th>\n",
       "      <th>x^3</th>\n",
       "      <th>x^4</th>\n",
       "    </tr>\n",
       "  </thead>\n",
       "  <tbody>\n",
       "    <tr>\n",
       "      <th>0</th>\n",
       "      <td>1.0</td>\n",
       "      <td>0.000000</td>\n",
       "      <td>0.000000</td>\n",
       "      <td>0.000000</td>\n",
       "      <td>0.000000</td>\n",
       "    </tr>\n",
       "    <tr>\n",
       "      <th>1</th>\n",
       "      <td>1.0</td>\n",
       "      <td>0.121212</td>\n",
       "      <td>0.014692</td>\n",
       "      <td>0.001781</td>\n",
       "      <td>0.000216</td>\n",
       "    </tr>\n",
       "    <tr>\n",
       "      <th>2</th>\n",
       "      <td>1.0</td>\n",
       "      <td>0.242424</td>\n",
       "      <td>0.058770</td>\n",
       "      <td>0.014247</td>\n",
       "      <td>0.003454</td>\n",
       "    </tr>\n",
       "    <tr>\n",
       "      <th>3</th>\n",
       "      <td>1.0</td>\n",
       "      <td>0.363636</td>\n",
       "      <td>0.132231</td>\n",
       "      <td>0.048084</td>\n",
       "      <td>0.017485</td>\n",
       "    </tr>\n",
       "    <tr>\n",
       "      <th>4</th>\n",
       "      <td>1.0</td>\n",
       "      <td>0.484848</td>\n",
       "      <td>0.235078</td>\n",
       "      <td>0.113977</td>\n",
       "      <td>0.055262</td>\n",
       "    </tr>\n",
       "    <tr>\n",
       "      <th>...</th>\n",
       "      <td>...</td>\n",
       "      <td>...</td>\n",
       "      <td>...</td>\n",
       "      <td>...</td>\n",
       "      <td>...</td>\n",
       "    </tr>\n",
       "    <tr>\n",
       "      <th>95</th>\n",
       "      <td>1.0</td>\n",
       "      <td>11.515152</td>\n",
       "      <td>132.598714</td>\n",
       "      <td>1526.894287</td>\n",
       "      <td>17582.419065</td>\n",
       "    </tr>\n",
       "    <tr>\n",
       "      <th>96</th>\n",
       "      <td>1.0</td>\n",
       "      <td>11.636364</td>\n",
       "      <td>135.404959</td>\n",
       "      <td>1575.621337</td>\n",
       "      <td>18334.502835</td>\n",
       "    </tr>\n",
       "    <tr>\n",
       "      <th>97</th>\n",
       "      <td>1.0</td>\n",
       "      <td>11.757576</td>\n",
       "      <td>138.240588</td>\n",
       "      <td>1625.374183</td>\n",
       "      <td>19110.460086</td>\n",
       "    </tr>\n",
       "    <tr>\n",
       "      <th>98</th>\n",
       "      <td>1.0</td>\n",
       "      <td>11.878788</td>\n",
       "      <td>141.105601</td>\n",
       "      <td>1676.163508</td>\n",
       "      <td>19910.790766</td>\n",
       "    </tr>\n",
       "    <tr>\n",
       "      <th>99</th>\n",
       "      <td>1.0</td>\n",
       "      <td>12.000000</td>\n",
       "      <td>144.000000</td>\n",
       "      <td>1728.000000</td>\n",
       "      <td>20736.000000</td>\n",
       "    </tr>\n",
       "  </tbody>\n",
       "</table>\n",
       "<p>100 rows × 5 columns</p>\n",
       "</div>"
      ],
      "text/plain": [
       "      1          x         x^2          x^3           x^4\n",
       "0   1.0   0.000000    0.000000     0.000000      0.000000\n",
       "1   1.0   0.121212    0.014692     0.001781      0.000216\n",
       "2   1.0   0.242424    0.058770     0.014247      0.003454\n",
       "3   1.0   0.363636    0.132231     0.048084      0.017485\n",
       "4   1.0   0.484848    0.235078     0.113977      0.055262\n",
       "..  ...        ...         ...          ...           ...\n",
       "95  1.0  11.515152  132.598714  1526.894287  17582.419065\n",
       "96  1.0  11.636364  135.404959  1575.621337  18334.502835\n",
       "97  1.0  11.757576  138.240588  1625.374183  19110.460086\n",
       "98  1.0  11.878788  141.105601  1676.163508  19910.790766\n",
       "99  1.0  12.000000  144.000000  1728.000000  20736.000000\n",
       "\n",
       "[100 rows x 5 columns]"
      ]
     },
     "execution_count": 7,
     "metadata": {},
     "output_type": "execute_result"
    }
   ],
   "source": [
    "# Your code here - prepare 4th degree polynomial data and fit a model\n",
    "from sklearn.preprocessing import PolynomialFeatures\n",
    "\n",
    "poly = PolynomialFeatures(4)\n",
    "\n",
    "X_poly = poly.fit_transform(X)\n",
    "feature_names = poly.get_feature_names_out(input_features=X.columns)\n",
    "\n",
    "X_poly = pd.DataFrame(X_poly, columns=feature_names, index=X.index)\n",
    "X_poly\n"
   ]
  },
  {
   "cell_type": "code",
   "execution_count": 8,
   "metadata": {},
   "outputs": [
    {
     "name": "stdout",
     "output_type": "stream",
     "text": [
      "R_squared: 0.566796782011223\n",
      "Coef_pvalues: 1      1.995047e-04\n",
      "x      1.738988e-10\n",
      "x^2    3.340296e-14\n",
      "x^3    1.715785e-16\n",
      "x^4    7.408453e-18\n",
      "dtype: float64\n"
     ]
    }
   ],
   "source": [
    "# Your code here - evaluate (adjusted) R-Squared and coefficient p-values\n",
    "poly_model = sm.OLS(y, X_poly)\n",
    "poly_results = poly_model.fit()\n",
    "\n",
    "print(f'R_squared: {poly_results.rsquared_adj}')\n",
    "print(f'Coef_pvalues: {poly_results.pvalues}')\n"
   ]
  },
  {
   "cell_type": "code",
   "execution_count": 9,
   "metadata": {},
   "outputs": [
    {
     "data": {
      "text/plain": [
       "1      True\n",
       "x      True\n",
       "x^2    True\n",
       "x^3    True\n",
       "x^4    True\n",
       "dtype: bool"
      ]
     },
     "execution_count": 9,
     "metadata": {},
     "output_type": "execute_result"
    }
   ],
   "source": [
    "poly_results.pvalues < 0.05"
   ]
  },
  {
   "cell_type": "markdown",
   "metadata": {},
   "source": [
    "* The r_squared explains about 57% of variance in y\n",
    "* The p_values are statistically significant"
   ]
  },
  {
   "cell_type": "code",
   "execution_count": 10,
   "metadata": {},
   "outputs": [],
   "source": [
    "# Your written answer here - summarize findings\n"
   ]
  },
  {
   "cell_type": "markdown",
   "metadata": {},
   "source": [
    "<details>\n",
    "    <summary style=\"cursor: pointer\"><b>Answer (click to reveal)</b></summary>\n",
    "    \n",
    "This is much better. We are explaining 57-58% of the variance in the target and all of our coefficients are statistically significant at an alpha of 0.05.\n",
    "    \n",
    "</details>"
   ]
  },
  {
   "cell_type": "markdown",
   "metadata": {},
   "source": [
    "## Build and Evaluate an 8th Degree Polynomial Model\n",
    "\n",
    "This model should include $x^0$ through $x^8$."
   ]
  },
  {
   "cell_type": "code",
   "execution_count": 11,
   "metadata": {},
   "outputs": [
    {
     "data": {
      "text/html": [
       "<div>\n",
       "<style scoped>\n",
       "    .dataframe tbody tr th:only-of-type {\n",
       "        vertical-align: middle;\n",
       "    }\n",
       "\n",
       "    .dataframe tbody tr th {\n",
       "        vertical-align: top;\n",
       "    }\n",
       "\n",
       "    .dataframe thead th {\n",
       "        text-align: right;\n",
       "    }\n",
       "</style>\n",
       "<table border=\"1\" class=\"dataframe\">\n",
       "  <thead>\n",
       "    <tr style=\"text-align: right;\">\n",
       "      <th></th>\n",
       "      <th>1</th>\n",
       "      <th>x</th>\n",
       "      <th>x^2</th>\n",
       "      <th>x^3</th>\n",
       "      <th>x^4</th>\n",
       "      <th>x^5</th>\n",
       "      <th>x^6</th>\n",
       "      <th>x^7</th>\n",
       "      <th>x^8</th>\n",
       "    </tr>\n",
       "  </thead>\n",
       "  <tbody>\n",
       "    <tr>\n",
       "      <th>0</th>\n",
       "      <td>1.0</td>\n",
       "      <td>0.000000</td>\n",
       "      <td>0.000000</td>\n",
       "      <td>0.000000</td>\n",
       "      <td>0.000000</td>\n",
       "      <td>0.000000</td>\n",
       "      <td>0.000000e+00</td>\n",
       "      <td>0.000000e+00</td>\n",
       "      <td>0.000000e+00</td>\n",
       "    </tr>\n",
       "    <tr>\n",
       "      <th>1</th>\n",
       "      <td>1.0</td>\n",
       "      <td>0.121212</td>\n",
       "      <td>0.014692</td>\n",
       "      <td>0.001781</td>\n",
       "      <td>0.000216</td>\n",
       "      <td>0.000026</td>\n",
       "      <td>3.171585e-06</td>\n",
       "      <td>3.844345e-07</td>\n",
       "      <td>4.659812e-08</td>\n",
       "    </tr>\n",
       "    <tr>\n",
       "      <th>2</th>\n",
       "      <td>1.0</td>\n",
       "      <td>0.242424</td>\n",
       "      <td>0.058770</td>\n",
       "      <td>0.014247</td>\n",
       "      <td>0.003454</td>\n",
       "      <td>0.000837</td>\n",
       "      <td>2.029814e-04</td>\n",
       "      <td>4.920762e-05</td>\n",
       "      <td>1.192912e-05</td>\n",
       "    </tr>\n",
       "    <tr>\n",
       "      <th>3</th>\n",
       "      <td>1.0</td>\n",
       "      <td>0.363636</td>\n",
       "      <td>0.132231</td>\n",
       "      <td>0.048084</td>\n",
       "      <td>0.017485</td>\n",
       "      <td>0.006358</td>\n",
       "      <td>2.312085e-03</td>\n",
       "      <td>8.407583e-04</td>\n",
       "      <td>3.057303e-04</td>\n",
       "    </tr>\n",
       "    <tr>\n",
       "      <th>4</th>\n",
       "      <td>1.0</td>\n",
       "      <td>0.484848</td>\n",
       "      <td>0.235078</td>\n",
       "      <td>0.113977</td>\n",
       "      <td>0.055262</td>\n",
       "      <td>0.026794</td>\n",
       "      <td>1.299081e-02</td>\n",
       "      <td>6.298575e-03</td>\n",
       "      <td>3.053855e-03</td>\n",
       "    </tr>\n",
       "    <tr>\n",
       "      <th>...</th>\n",
       "      <td>...</td>\n",
       "      <td>...</td>\n",
       "      <td>...</td>\n",
       "      <td>...</td>\n",
       "      <td>...</td>\n",
       "      <td>...</td>\n",
       "      <td>...</td>\n",
       "      <td>...</td>\n",
       "      <td>...</td>\n",
       "    </tr>\n",
       "    <tr>\n",
       "      <th>95</th>\n",
       "      <td>1.0</td>\n",
       "      <td>11.515152</td>\n",
       "      <td>132.598714</td>\n",
       "      <td>1526.894287</td>\n",
       "      <td>17582.419065</td>\n",
       "      <td>202464.219537</td>\n",
       "      <td>2.331406e+06</td>\n",
       "      <td>2.684650e+07</td>\n",
       "      <td>3.091415e+08</td>\n",
       "    </tr>\n",
       "    <tr>\n",
       "      <th>96</th>\n",
       "      <td>1.0</td>\n",
       "      <td>11.636364</td>\n",
       "      <td>135.404959</td>\n",
       "      <td>1575.621337</td>\n",
       "      <td>18334.502835</td>\n",
       "      <td>213346.942074</td>\n",
       "      <td>2.482583e+06</td>\n",
       "      <td>2.888823e+07</td>\n",
       "      <td>3.361540e+08</td>\n",
       "    </tr>\n",
       "    <tr>\n",
       "      <th>97</th>\n",
       "      <td>1.0</td>\n",
       "      <td>11.757576</td>\n",
       "      <td>138.240588</td>\n",
       "      <td>1625.374183</td>\n",
       "      <td>19110.460086</td>\n",
       "      <td>224692.682227</td>\n",
       "      <td>2.641841e+06</td>\n",
       "      <td>3.106165e+07</td>\n",
       "      <td>3.652097e+08</td>\n",
       "    </tr>\n",
       "    <tr>\n",
       "      <th>98</th>\n",
       "      <td>1.0</td>\n",
       "      <td>11.878788</td>\n",
       "      <td>141.105601</td>\n",
       "      <td>1676.163508</td>\n",
       "      <td>19910.790766</td>\n",
       "      <td>236516.060008</td>\n",
       "      <td>2.809524e+06</td>\n",
       "      <td>3.337374e+07</td>\n",
       "      <td>3.964396e+08</td>\n",
       "    </tr>\n",
       "    <tr>\n",
       "      <th>99</th>\n",
       "      <td>1.0</td>\n",
       "      <td>12.000000</td>\n",
       "      <td>144.000000</td>\n",
       "      <td>1728.000000</td>\n",
       "      <td>20736.000000</td>\n",
       "      <td>248832.000000</td>\n",
       "      <td>2.985984e+06</td>\n",
       "      <td>3.583181e+07</td>\n",
       "      <td>4.299817e+08</td>\n",
       "    </tr>\n",
       "  </tbody>\n",
       "</table>\n",
       "<p>100 rows × 9 columns</p>\n",
       "</div>"
      ],
      "text/plain": [
       "      1          x         x^2          x^3           x^4            x^5  \\\n",
       "0   1.0   0.000000    0.000000     0.000000      0.000000       0.000000   \n",
       "1   1.0   0.121212    0.014692     0.001781      0.000216       0.000026   \n",
       "2   1.0   0.242424    0.058770     0.014247      0.003454       0.000837   \n",
       "3   1.0   0.363636    0.132231     0.048084      0.017485       0.006358   \n",
       "4   1.0   0.484848    0.235078     0.113977      0.055262       0.026794   \n",
       "..  ...        ...         ...          ...           ...            ...   \n",
       "95  1.0  11.515152  132.598714  1526.894287  17582.419065  202464.219537   \n",
       "96  1.0  11.636364  135.404959  1575.621337  18334.502835  213346.942074   \n",
       "97  1.0  11.757576  138.240588  1625.374183  19110.460086  224692.682227   \n",
       "98  1.0  11.878788  141.105601  1676.163508  19910.790766  236516.060008   \n",
       "99  1.0  12.000000  144.000000  1728.000000  20736.000000  248832.000000   \n",
       "\n",
       "             x^6           x^7           x^8  \n",
       "0   0.000000e+00  0.000000e+00  0.000000e+00  \n",
       "1   3.171585e-06  3.844345e-07  4.659812e-08  \n",
       "2   2.029814e-04  4.920762e-05  1.192912e-05  \n",
       "3   2.312085e-03  8.407583e-04  3.057303e-04  \n",
       "4   1.299081e-02  6.298575e-03  3.053855e-03  \n",
       "..           ...           ...           ...  \n",
       "95  2.331406e+06  2.684650e+07  3.091415e+08  \n",
       "96  2.482583e+06  2.888823e+07  3.361540e+08  \n",
       "97  2.641841e+06  3.106165e+07  3.652097e+08  \n",
       "98  2.809524e+06  3.337374e+07  3.964396e+08  \n",
       "99  2.985984e+06  3.583181e+07  4.299817e+08  \n",
       "\n",
       "[100 rows x 9 columns]"
      ]
     },
     "execution_count": 11,
     "metadata": {},
     "output_type": "execute_result"
    }
   ],
   "source": [
    "# Your code here - prepare 8th degree polynomial data and fit a model\n",
    "poly_1 = PolynomialFeatures(8)\n",
    "X_poly_1 = poly_1.fit_transform(X)\n",
    "\n",
    "feature_names_1 = poly_1.get_feature_names_out(input_features=X.columns)\n",
    "\n",
    "X_poly_1 = pd.DataFrame(X_poly_1, columns=feature_names_1, index=X.index)\n",
    "X_poly_1"
   ]
  },
  {
   "cell_type": "code",
   "execution_count": 12,
   "metadata": {},
   "outputs": [],
   "source": [
    "poly_1_model = sm.OLS(y, X_poly_1)\n",
    "poly_1_results = poly_1_model.fit()\n"
   ]
  },
  {
   "cell_type": "code",
   "execution_count": 13,
   "metadata": {},
   "outputs": [
    {
     "name": "stdout",
     "output_type": "stream",
     "text": [
      "R_squared: 0.8188676291759849\n",
      "Coef_pvalues: 1      0.683776\n",
      "x      0.618134\n",
      "x^2    0.371163\n",
      "x^3    0.199162\n",
      "x^4    0.144776\n",
      "x^5    0.157523\n",
      "x^6    0.225536\n",
      "x^7    0.357352\n",
      "x^8    0.554141\n",
      "dtype: float64\n"
     ]
    }
   ],
   "source": [
    "# Your code here - evaluate (adjusted) R-Squared and coefficient p-values\n",
    "\n",
    "print(f'R_squared: {poly_1_results.rsquared_adj}')\n",
    "print(f'Coef_pvalues: {poly_1_results.pvalues}')"
   ]
  },
  {
   "cell_type": "code",
   "execution_count": 14,
   "metadata": {},
   "outputs": [
    {
     "data": {
      "text/plain": [
       "1      False\n",
       "x      False\n",
       "x^2    False\n",
       "x^3    False\n",
       "x^4    False\n",
       "x^5    False\n",
       "x^6    False\n",
       "x^7    False\n",
       "x^8    False\n",
       "dtype: bool"
      ]
     },
     "execution_count": 14,
     "metadata": {},
     "output_type": "execute_result"
    }
   ],
   "source": [
    "poly_1_results.pvalues < 0.05"
   ]
  },
  {
   "cell_type": "markdown",
   "metadata": {},
   "source": [
    "# Your written answer here - summarize findings\n",
    "\n",
    "* The rsquared explains about 82% of the variance in y\n",
    "* None of the pvalues are statistically significant"
   ]
  },
  {
   "cell_type": "markdown",
   "metadata": {},
   "source": [
    "<details>\n",
    "    <summary style=\"cursor: pointer\"><b>Answer (click to reveal)</b></summary>\n",
    "    \n",
    "Our R-Squared is higher, but none of the coefficients are statistically significant at an alpha of 0.05 any more. If what we care about is an inferential understanding of the data, this is too high a degree of the polynomial.\n",
    "    \n",
    "</details>"
   ]
  },
  {
   "cell_type": "markdown",
   "metadata": {},
   "source": [
    "## Plot All Models\n",
    "\n",
    "Build a single plot that shows the raw data as a scatter plot, as well as all of the models you have developed as line graphs. Make sure that everything is labeled so you can tell the different models apart!"
   ]
  },
  {
   "cell_type": "code",
   "execution_count": 15,
   "metadata": {},
   "outputs": [
    {
     "name": "stdout",
     "output_type": "stream",
     "text": [
      "0.0\n",
      "12.0\n"
     ]
    }
   ],
   "source": [
    "print( X['x'].min())\n",
    "print( X['x'].max())"
   ]
  },
  {
   "cell_type": "code",
   "execution_count": 16,
   "metadata": {},
   "outputs": [
    {
     "data": {
      "image/png": "[encoded data removed]",
      "text/plain": [
       "<Figure size 640x480 with 1 Axes>"
      ]
     },
     "metadata": {},
     "output_type": "display_data"
    }
   ],
   "source": [
    "# Your code here\n",
    "X_smooth = pd.DataFrame(np.linspace(0, 12, 100), columns=['x'])\n",
    "X_smooth['x_quad'] = X_smooth['x'] ** 2\n",
    "\n",
    "X_smooth_1 = poly.transform(X_smooth[['x']])\n",
    "X_smooth_2 = poly_1.transform(X_smooth[['x']])\n",
    "\n",
    "fig, ax = plt.subplots()\n",
    "\n",
    "ax.scatter(X['x'], y)\n",
    "ax.plot(X_smooth['x'], quad_results.predict(sm.add_constant(X_smooth[['x', 'x_quad']])), color='red', label='Quadratic')\n",
    "ax.plot(X_smooth['x'], poly_results.predict(X_smooth_1), color='green', label='4th_degree')\n",
    "ax.plot(X_smooth['x'], poly_1_results.predict(X_smooth_2), label='8th_degree', color='black')\n",
    "\n",
    "ax.set_xlabel('x')\n",
    "ax.set_ylabel('y')\n",
    "ax.set_title('Polynomial Regression')\n",
    "\n",
    "ax.set_xlim(0, 12)\n",
    "\n",
    "plt.show()\n"
   ]
  },
  {
   "cell_type": "markdown",
   "metadata": {},
   "source": [
    "### Interpret Findings\n",
    "\n",
    "Based on the metrics as well as the graphs, which model do you think is the best? Why?"
   ]
  },
  {
   "cell_type": "code",
   "execution_count": 17,
   "metadata": {},
   "outputs": [],
   "source": [
    "# Your written answer here\n"
   ]
  },
  {
   "cell_type": "markdown",
   "metadata": {},
   "source": [
    "<details>\n",
    "    <summary style=\"cursor: pointer\"><b>Answer (click to reveal)</b></summary>\n",
    "    \n",
    "The quadratic model (polynomial degree 2) is definitely not the best based on all of the evidence we have. It has the worst R-Squared, the coefficient p-values are not significant, and you can see from the graph that there is a lot of variance in the data that it is not picking up on.\n",
    "\n",
    "Our visual inspection aligns with the worse R-Squared for the 4th degree polynomial compared to the 8th degree polynomial. The 4th degree polynomial is flatter and doesn't seem to capture the extremes of the data as well.\n",
    "    \n",
    "However if we wanted to interpret the coefficients, then only the 4th degree polynomial has statistically significant results. The interpretation would be challenging because of the number of terms, but we could apply some calculus techniques to describe inflection points.\n",
    "\n",
    "Overall it appears that this dataset is not particularly well suited to an inferential linear regression approach, even with polynomial transformations. So the \"best\" model could be either the 4th or 8th degree polynomial depending on which aspect of the model is more important to you, but either way it will be challenging to translate it into insights for stakeholders.\n",
    "    \n",
    "</details>"
   ]
  },
  {
   "cell_type": "markdown",
   "metadata": {},
   "source": [
    "## Summary"
   ]
  },
  {
   "cell_type": "markdown",
   "metadata": {},
   "source": [
    "Great job! You now know how to include polynomials in your linear models as well as the limitations of applying polynomial regression. "
   ]
  }
 ],
 "metadata": {
  "kernelspec": {
   "display_name": "wangari_env",
   "language": "python",
   "name": "python3"
  },
  "language_info": {
   "codemirror_mode": {
    "name": "ipython",
    "version": 3
   },
   "file_extension": ".py",
   "mimetype": "text/x-python",
   "name": "python",
   "nbconvert_exporter": "python",
   "pygments_lexer": "ipython3",
   "version": "3.12.7"
  }
 },
 "nbformat": 4,
 "nbformat_minor": 2
}
